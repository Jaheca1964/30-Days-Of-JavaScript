{
  "nbformat": 4,
  "nbformat_minor": 0,
  "metadata": {
    "colab": {
      "provenance": [],
      "authorship_tag": "ABX9TyOjYsfGYwmIuPUI23Nh5sqc",
      "include_colab_link": true
    },
    "kernelspec": {
      "name": "python3",
      "display_name": "Python 3"
    },
    "language_info": {
      "name": "python"
    }
  },
  "cells": [
    {
      "cell_type": "markdown",
      "metadata": {
        "id": "view-in-github",
        "colab_type": "text"
      },
      "source": [
        "<a href=\"https://colab.research.google.com/github/Jaheca1964/30-Days-Of-JavaScript/blob/master/Ciencia_de_datos.ipynb\" target=\"_parent\"><img src=\"https://colab.research.google.com/assets/colab-badge.svg\" alt=\"Open In Colab\"/></a>"
      ]
    },
    {
      "cell_type": "code",
      "execution_count": 2,
      "metadata": {
        "colab": {
          "base_uri": "https://localhost:8080/"
        },
        "id": "QRqfPZ8SmkqZ",
        "outputId": "54f2c4fb-208c-43e3-c8c1-3519386db2fd"
      },
      "outputs": [
        {
          "output_type": "stream",
          "name": "stdout",
          "text": [
            "Rad: 1001, Tipo: Choque, Personas afectadas: 3\n",
            "Rad: 1003, Tipo: Volcamiento, Personas afectadas: 4\n",
            "Rad: 1005, Tipo: Atropello, Personas afectadas: 5\n",
            "Rad: 1006, Tipo: Choque, Personas afectadas: 3\n"
          ]
        }
      ],
      "source": [
        "siniestros = [\n",
        "    {\"Rad\": 1001, \"fecha\": \"2023-01-15\", \"tipo\": \"Choque\", \"personas_afectadas\": 3},\n",
        "    {\"Rad\": 1002, \"fecha\": \"2023-02-10\", \"tipo\": \"Atropello\", \"personas_afectadas\": 1},\n",
        "    {\"Rad\": 1003, \"fecha\": \"2023-03-05\", \"tipo\": \"Volcamiento\", \"personas_afectadas\": 4},\n",
        "    {\"Rad\": 1004, \"fecha\": \"2023-04-20\", \"tipo\": \"Choque\", \"personas_afectadas\": 2},\n",
        "    {\"Rad\": 1005, \"fecha\": \"2023-05-12\", \"tipo\": \"Atropello\", \"personas_afectadas\": 5},\n",
        "]\n",
        "\n",
        "nuevo_siniestro = {\"Rad\": 1006, \"fecha\": \"2023-06-01\", \"tipo\": \"Choque\", \"personas_afectadas\": 3}\n",
        "siniestros.append(nuevo_siniestro)\n",
        "\n",
        "\n",
        "for siniestro in siniestros:\n",
        "    if siniestro[\"personas_afectadas\"] > 2:\n",
        "        print(f\"Rad: {siniestro['Rad']}, Tipo: {siniestro['tipo']}, Personas afectadas: {siniestro['personas_afectadas']}\")\n"
      ]
    },
    {
      "cell_type": "code",
      "source": [
        "import pandas as pd\n",
        "\n",
        "datos = {\n",
        "    \"Rad\": [1001, 1002, 1003],\n",
        "    \"Tipo\": [\"Choque\", \"Atropello\", \"Volcamiento\"],\n",
        "    \"Personas\": [3, 1, 4]\n",
        "}\n",
        "\n",
        "df = pd.DataFrame(datos)\n",
        "print(df)\n"
      ],
      "metadata": {
        "colab": {
          "base_uri": "https://localhost:8080/"
        },
        "id": "l3x_4eknnE3T",
        "outputId": "e310652e-138a-4214-f642-eb9900dc0b81"
      },
      "execution_count": 3,
      "outputs": [
        {
          "output_type": "stream",
          "name": "stdout",
          "text": [
            "    Rad         Tipo  Personas\n",
            "0  1001       Choque         3\n",
            "1  1002    Atropello         1\n",
            "2  1003  Volcamiento         4\n"
          ]
        }
      ]
    },
    {
      "cell_type": "code",
      "source": [
        "# CSV\n",
        "df = pd.read_csv(\"siniestros.csv\")\n",
        "\n",
        "# Excel (requiere openpyxl o xlrd)\n",
        "df = pd.read_excel(\"siniestros.xlsx\")\n"
      ],
      "metadata": {
        "id": "6GyrZS7YnUIT"
      },
      "execution_count": null,
      "outputs": []
    },
    {
      "cell_type": "code",
      "source": [],
      "metadata": {
        "id": "BbJ9ky1PqL9t"
      },
      "execution_count": null,
      "outputs": []
    },
    {
      "cell_type": "code",
      "source": [
        "import pandas as pd\n",
        "\n",
        "# Datos simulados\n",
        "datos = {\n",
        "    \"Rad\": [1001, 1002, 1003, 1004, 1005],\n",
        "    \"Fecha\": [\"2023-01-15\", \"2023-02-10\", \"2023-03-05\", \"2023-04-20\", \"2023-05-12\"],\n",
        "    \"Tipo\": [\"Choque\", \"Atropello\", \"Volcamiento\", \"Choque\", \"Atropello\"],\n",
        "    \"Personas\": [3, 1, 4, 2, 5]\n",
        "}\n",
        "\n",
        "# Crear el DataFrame\n",
        "df = pd.DataFrame(datos)\n",
        "\n",
        "# Mostrar las primeras filas\n",
        "print(df.head())\n"
      ],
      "metadata": {
        "colab": {
          "base_uri": "https://localhost:8080/"
        },
        "id": "5mRpYjbfql6A",
        "outputId": "4e054712-3e2e-4734-849f-0d577034b8a1"
      },
      "execution_count": 7,
      "outputs": [
        {
          "output_type": "stream",
          "name": "stdout",
          "text": [
            "    Rad       Fecha         Tipo  Personas\n",
            "0  1001  2023-01-15       Choque         3\n",
            "1  1002  2023-02-10    Atropello         1\n",
            "2  1003  2023-03-05  Volcamiento         4\n",
            "3  1004  2023-04-20       Choque         2\n",
            "4  1005  2023-05-12    Atropello         5\n"
          ]
        }
      ]
    },
    {
      "cell_type": "code",
      "source": [
        "print(\"Columnas, Tipos de Datos y Valores Nulos:\")\n",
        "print(df.info())"
      ],
      "metadata": {
        "colab": {
          "base_uri": "https://localhost:8080/"
        },
        "id": "1rco3QfKqvCK",
        "outputId": "2860336e-272b-4832-8c18-c12629720b41"
      },
      "execution_count": 9,
      "outputs": [
        {
          "output_type": "stream",
          "name": "stdout",
          "text": [
            "Columnas, Tipos de Datos y Valores Nulos:\n",
            "<class 'pandas.core.frame.DataFrame'>\n",
            "RangeIndex: 5 entries, 0 to 4\n",
            "Data columns (total 4 columns):\n",
            " #   Column    Non-Null Count  Dtype \n",
            "---  ------    --------------  ----- \n",
            " 0   Rad       5 non-null      int64 \n",
            " 1   Fecha     5 non-null      object\n",
            " 2   Tipo      5 non-null      object\n",
            " 3   Personas  5 non-null      int64 \n",
            "dtypes: int64(2), object(2)\n",
            "memory usage: 292.0+ bytes\n",
            "None\n"
          ]
        }
      ]
    },
    {
      "cell_type": "code",
      "source": [
        "print(\"Columnas:\", df.columns)\n",
        "print(\"Tamaño:\", df.shape)\n",
        "print(\"Tipos de datos:\\n\", df.dtypes)\n",
        "print(\"\\nResumen general:\")\n",
        "print(df.info())"
      ],
      "metadata": {
        "colab": {
          "base_uri": "https://localhost:8080/"
        },
        "id": "_RvC4Koeq55E",
        "outputId": "5d5202be-ec99-4d15-d844-bc831e20007b"
      },
      "execution_count": 15,
      "outputs": [
        {
          "output_type": "stream",
          "name": "stdout",
          "text": [
            "Columnas: Index(['Rad', 'Fecha', 'Tipo', 'Personas'], dtype='object')\n",
            "Tamaño: (5, 4)\n",
            "Tipos de datos:\n",
            " Rad          int64\n",
            "Fecha       object\n",
            "Tipo        object\n",
            "Personas     int64\n",
            "dtype: object\n",
            "\n",
            "Resumen general:\n",
            "<class 'pandas.core.frame.DataFrame'>\n",
            "RangeIndex: 5 entries, 0 to 4\n",
            "Data columns (total 4 columns):\n",
            " #   Column    Non-Null Count  Dtype \n",
            "---  ------    --------------  ----- \n",
            " 0   Rad       5 non-null      int64 \n",
            " 1   Fecha     5 non-null      object\n",
            " 2   Tipo      5 non-null      object\n",
            " 3   Personas  5 non-null      int64 \n",
            "dtypes: int64(2), object(2)\n",
            "memory usage: 292.0+ bytes\n",
            "None\n"
          ]
        }
      ]
    },
    {
      "cell_type": "code",
      "source": [],
      "metadata": {
        "colab": {
          "base_uri": "https://localhost:8080/"
        },
        "id": "hSJCIKUurFmc",
        "outputId": "42e814e7-d7f6-43bc-b499-30374d0d4ad6"
      },
      "execution_count": 12,
      "outputs": [
        {
          "output_type": "stream",
          "name": "stdout",
          "text": [
            "Tipos de datos:\n",
            " Rad          int64\n",
            "Fecha       object\n",
            "Tipo        object\n",
            "Personas     int64\n",
            "dtype: object\n"
          ]
        }
      ]
    },
    {
      "cell_type": "code",
      "source": [],
      "metadata": {
        "colab": {
          "base_uri": "https://localhost:8080/"
        },
        "id": "AMt0OdnqrJ9_",
        "outputId": "62dc297d-59e0-40ee-8631-373c6a53bdb2"
      },
      "execution_count": 14,
      "outputs": [
        {
          "output_type": "stream",
          "name": "stdout",
          "text": [
            "\n",
            "Resumen general:\n",
            "<class 'pandas.core.frame.DataFrame'>\n",
            "RangeIndex: 5 entries, 0 to 4\n",
            "Data columns (total 4 columns):\n",
            " #   Column    Non-Null Count  Dtype \n",
            "---  ------    --------------  ----- \n",
            " 0   Rad       5 non-null      int64 \n",
            " 1   Fecha     5 non-null      object\n",
            " 2   Tipo      5 non-null      object\n",
            " 3   Personas  5 non-null      int64 \n",
            "dtypes: int64(2), object(2)\n",
            "memory usage: 292.0+ bytes\n",
            "None\n"
          ]
        }
      ]
    },
    {
      "cell_type": "code",
      "source": [
        "choques = df[df[\"Tipo\"] == \"Choque\"]\n",
        "print(choques)\n"
      ],
      "metadata": {
        "colab": {
          "base_uri": "https://localhost:8080/"
        },
        "id": "veuPbSScvp7N",
        "outputId": "95e21b01-e082-40af-84dd-428f219d1caa"
      },
      "execution_count": 16,
      "outputs": [
        {
          "output_type": "stream",
          "name": "stdout",
          "text": [
            "    Rad       Fecha    Tipo  Personas\n",
            "0  1001  2023-01-15  Choque         3\n",
            "3  1004  2023-04-20  Choque         2\n"
          ]
        }
      ]
    },
    {
      "cell_type": "code",
      "source": [
        "mas_de_dos = df[df[\"Personas\"] >3]\n",
        "print(mas_de_dos)\n"
      ],
      "metadata": {
        "colab": {
          "base_uri": "https://localhost:8080/"
        },
        "id": "iRFrjY0PvtCz",
        "outputId": "0bbefdc6-c970-4d58-875c-2865eb00ff67"
      },
      "execution_count": 19,
      "outputs": [
        {
          "output_type": "stream",
          "name": "stdout",
          "text": [
            "    Rad       Fecha         Tipo  Personas\n",
            "2  1003  2023-03-05  Volcamiento         4\n",
            "4  1005  2023-05-12    Atropello         5\n"
          ]
        }
      ]
    },
    {
      "cell_type": "code",
      "source": [
        "ordenado = df.sort_values(by=\"Personas\", ascending=False)\n",
        "print(ordenado)\n"
      ],
      "metadata": {
        "colab": {
          "base_uri": "https://localhost:8080/"
        },
        "id": "YBDAoOGMv1F9",
        "outputId": "7a8b6ae8-e786-4914-f7e3-dfc1f4717eb8"
      },
      "execution_count": 18,
      "outputs": [
        {
          "output_type": "stream",
          "name": "stdout",
          "text": [
            "    Rad       Fecha         Tipo  Personas\n",
            "4  1005  2023-05-12    Atropello         5\n",
            "2  1003  2023-03-05  Volcamiento         4\n",
            "0  1001  2023-01-15       Choque         3\n",
            "3  1004  2023-04-20       Choque         2\n",
            "1  1002  2023-02-10    Atropello         1\n"
          ]
        }
      ]
    },
    {
      "cell_type": "code",
      "source": [
        "def clasificar_gravedad(personas):\n",
        "    if personas >= 4:\n",
        "        return \"Alta\"\n",
        "    elif personas == 3:\n",
        "        return \"Media\"\n",
        "    else:\n",
        "        return \"Baja\"\n",
        "\n",
        "df[\"Gravedad\"] = df[\"Personas\"].apply(clasificar_gravedad)\n",
        "print(df)\n"
      ],
      "metadata": {
        "colab": {
          "base_uri": "https://localhost:8080/"
        },
        "id": "de7JjUFDwC2m",
        "outputId": "fe1694fd-25b5-4bfa-bb0d-59910f644eff"
      },
      "execution_count": 20,
      "outputs": [
        {
          "output_type": "stream",
          "name": "stdout",
          "text": [
            "    Rad       Fecha         Tipo  Personas Gravedad\n",
            "0  1001  2023-01-15       Choque         3    Media\n",
            "1  1002  2023-02-10    Atropello         1     Baja\n",
            "2  1003  2023-03-05  Volcamiento         4     Alta\n",
            "3  1004  2023-04-20       Choque         2     Baja\n",
            "4  1005  2023-05-12    Atropello         5     Alta\n"
          ]
        }
      ]
    },
    {
      "cell_type": "code",
      "source": [
        "# Una sola columna\n",
        "print(df[\"Tipo\"])\n",
        "\n",
        "# Varias columnas\n",
        "print(df[[\"Rad\", \"Tipo\", \"Personas\"]])\n"
      ],
      "metadata": {
        "colab": {
          "base_uri": "https://localhost:8080/"
        },
        "id": "vDyLndmox6XP",
        "outputId": "669e8839-4956-485e-fa39-ec3f446d27a3"
      },
      "execution_count": 21,
      "outputs": [
        {
          "output_type": "stream",
          "name": "stdout",
          "text": [
            "0         Choque\n",
            "1      Atropello\n",
            "2    Volcamiento\n",
            "3         Choque\n",
            "4      Atropello\n",
            "Name: Tipo, dtype: object\n",
            "    Rad         Tipo  Personas\n",
            "0  1001       Choque         3\n",
            "1  1002    Atropello         1\n",
            "2  1003  Volcamiento         4\n",
            "3  1004       Choque         2\n",
            "4  1005    Atropello         5\n"
          ]
        }
      ]
    },
    {
      "cell_type": "code",
      "source": [
        "# Siniestros después de cierta fecha\n",
        "filtrados = df[df[\"Fecha\"] > \"2023-03-01\"]\n",
        "print(filtrados)\n"
      ],
      "metadata": {
        "colab": {
          "base_uri": "https://localhost:8080/"
        },
        "id": "a5HuCXdnyAoA",
        "outputId": "76be0f73-a15b-4b82-fd06-9e55e3ba9a59"
      },
      "execution_count": 22,
      "outputs": [
        {
          "output_type": "stream",
          "name": "stdout",
          "text": [
            "    Rad       Fecha         Tipo  Personas Gravedad\n",
            "2  1003  2023-03-05  Volcamiento         4     Alta\n",
            "3  1004  2023-04-20       Choque         2     Baja\n",
            "4  1005  2023-05-12    Atropello         5     Alta\n"
          ]
        }
      ]
    },
    {
      "cell_type": "code",
      "source": [
        "# Siniestros que son Atropellos y tienen más de 2 personas\n",
        "cond = (df[\"Tipo\"] == \"Atropello\") & (df[\"Personas\"] > 2)\n",
        "print(df[cond])\n"
      ],
      "metadata": {
        "colab": {
          "base_uri": "https://localhost:8080/"
        },
        "id": "42aAwvqRyINa",
        "outputId": "c58fb34a-56dc-459f-a7e9-c948bf8dfd8f"
      },
      "execution_count": 23,
      "outputs": [
        {
          "output_type": "stream",
          "name": "stdout",
          "text": [
            "    Rad       Fecha       Tipo  Personas Gravedad\n",
            "4  1005  2023-05-12  Atropello         5     Alta\n"
          ]
        }
      ]
    },
    {
      "cell_type": "code",
      "source": [
        "print(\"Promedio de personas afectadas:\", df[\"Personas\"].mean())\n",
        "print(\"Máximo:\", df[\"Personas\"].max())\n",
        "print(\"Mínimo:\", df[\"Personas\"].min())\n",
        "print(\"Conteo de tipos de siniestro:\")\n",
        "print(df[\"Tipo\"].value_counts())\n"
      ],
      "metadata": {
        "colab": {
          "base_uri": "https://localhost:8080/"
        },
        "id": "aUWaPdhQyS1a",
        "outputId": "39bdf7dc-dcc0-4d94-c782-3ca922658b57"
      },
      "execution_count": 24,
      "outputs": [
        {
          "output_type": "stream",
          "name": "stdout",
          "text": [
            "Promedio de personas afectadas: 3.0\n",
            "Máximo: 5\n",
            "Mínimo: 1\n",
            "Conteo de tipos de siniestro:\n",
            "Tipo\n",
            "Choque         2\n",
            "Atropello      2\n",
            "Volcamiento    1\n",
            "Name: count, dtype: int64\n"
          ]
        }
      ]
    },
    {
      "cell_type": "code",
      "source": [
        "# Número total de personas afectadas por tipo de siniestro\n",
        "agrupado = df.groupby(\"Tipo\")[\"Personas\"].sum()\n",
        "print(agrupado)\n"
      ],
      "metadata": {
        "colab": {
          "base_uri": "https://localhost:8080/"
        },
        "id": "R7RaU-H1ybar",
        "outputId": "d37aebd0-dc1c-4b68-f6be-8edb9b12b9fe"
      },
      "execution_count": 25,
      "outputs": [
        {
          "output_type": "stream",
          "name": "stdout",
          "text": [
            "Tipo\n",
            "Atropello      6\n",
            "Choque         5\n",
            "Volcamiento    4\n",
            "Name: Personas, dtype: int64\n"
          ]
        }
      ]
    },
    {
      "cell_type": "code",
      "source": [
        "# Ver cuántos valores nulos hay por columna\n",
        "print(df.isnull().sum())\n",
        "\n",
        "# Ver filas con valores nulos\n",
        "print(df[df.isnull().any(axis=1)])\n"
      ],
      "metadata": {
        "colab": {
          "base_uri": "https://localhost:8080/"
        },
        "id": "7J21hjavyvfe",
        "outputId": "9a3692b9-fa8f-4fe8-d4ef-34d6eb1fc8af"
      },
      "execution_count": 26,
      "outputs": [
        {
          "output_type": "stream",
          "name": "stdout",
          "text": [
            "Rad         0\n",
            "Fecha       0\n",
            "Tipo        0\n",
            "Personas    0\n",
            "Gravedad    0\n",
            "dtype: int64\n",
            "Empty DataFrame\n",
            "Columns: [Rad, Fecha, Tipo, Personas, Gravedad]\n",
            "Index: []\n"
          ]
        }
      ]
    },
    {
      "cell_type": "code",
      "source": [
        "# Ver filas duplicadas completas\n",
        "duplicados = df[df.duplicated()]\n",
        "print(duplicados)\n",
        "\n",
        "# Eliminar duplicados\n",
        "df = df.drop_duplicates()\n",
        "\n"
      ],
      "metadata": {
        "colab": {
          "base_uri": "https://localhost:8080/"
        },
        "id": "MYqd5CEBy3Cu",
        "outputId": "c3cdc62e-7932-48eb-ce0c-0e02f81e31b7"
      },
      "execution_count": 28,
      "outputs": [
        {
          "output_type": "stream",
          "name": "stdout",
          "text": [
            "Empty DataFrame\n",
            "Columns: [Rad, Fecha, Tipo, Personas, Gravedad]\n",
            "Index: []\n"
          ]
        }
      ]
    },
    {
      "cell_type": "code",
      "source": [
        "# Ver tipos de datos de cada columna\n",
        "print(df.dtypes)\n",
        "\n",
        "# Convertir columna a tipo fecha\n",
        "df[\"Fecha\"] = pd.to_datetime(df[\"Fecha\"], errors=\"coerce\")\n",
        "\n",
        "# Convertir columna a categoría\n",
        "df[\"Tipo\"] = df[\"Tipo\"].astype(\"category\")\n"
      ],
      "metadata": {
        "colab": {
          "base_uri": "https://localhost:8080/"
        },
        "id": "__dpVtcMzCio",
        "outputId": "ab7d75d8-b90b-42f6-dff4-20fe7ac5d1eb"
      },
      "execution_count": 30,
      "outputs": [
        {
          "output_type": "stream",
          "name": "stdout",
          "text": [
            "Rad                  int64\n",
            "Fecha       datetime64[ns]\n",
            "Tipo                object\n",
            "Personas             int64\n",
            "Gravedad            object\n",
            "dtype: object\n"
          ]
        }
      ]
    }
  ]
}